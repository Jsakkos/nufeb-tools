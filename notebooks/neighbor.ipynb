{
 "metadata": {
  "language_info": {
   "codemirror_mode": {
    "name": "ipython",
    "version": 3
   },
   "file_extension": ".py",
   "mimetype": "text/x-python",
   "name": "python",
   "nbconvert_exporter": "python",
   "pygments_lexer": "ipython3",
   "version": "3.9.4"
  },
  "orig_nbformat": 4,
  "kernelspec": {
   "name": "python3",
   "display_name": "Python 3.9.4 64-bit ('pyscaf': conda)"
  },
  "interpreter": {
   "hash": "a535facc1ab07b57822a6fb462a8ee695bffb9bfe566035a79934908d607fc40"
  }
 },
 "nbformat": 4,
 "nbformat_minor": 2,
 "cells": [
  {
   "cell_type": "code",
   "execution_count": 1,
   "metadata": {},
   "outputs": [],
   "source": [
    "from nufeb_tools import utils,plot\n",
    "from scipy.integrate import odeint\n",
    "import numpy as np\n",
    "import pandas as pd\n",
    "from itertools import combinations\n",
    "import seaborn as sns\n",
    "import matplotlib.pyplot as plt\n",
    "from scipy.signal import find_peaks\n",
    "from scipy.optimize import curve_fit"
   ]
  },
  {
   "cell_type": "code",
   "execution_count": 2,
   "metadata": {},
   "outputs": [],
   "source": [
    "x = utils.get_data(test=True)\n",
    "#x.single_cell_growth()\n"
   ]
  },
  {
   "cell_type": "code",
   "execution_count": 3,
   "metadata": {},
   "outputs": [
    {
     "output_type": "execute_result",
     "data": {
      "text/plain": [
       "      ID  type         x         y         z\n",
       "0     95     2  0.000026  0.000020  0.000001\n",
       "1     53     2  0.000024  0.000004  0.000003\n",
       "2     62     2  0.000042  0.000006  0.000003\n",
       "3     45     2  0.000027  0.000016  0.000003\n",
       "4     26     1  0.000035  0.000003  0.000004\n",
       "..   ...   ...       ...       ...       ...\n",
       "111    3     1  0.000096  0.000088  0.000006\n",
       "112  110     2  0.000094  0.000093  0.000007\n",
       "113    1     1  0.000053  0.000096  0.000008\n",
       "114   89     2  0.000079  0.000090  0.000008\n",
       "115   79     2  0.000086  0.000081  0.000009\n",
       "\n",
       "[116 rows x 5 columns]"
      ],
      "text/html": "<div>\n<style scoped>\n    .dataframe tbody tr th:only-of-type {\n        vertical-align: middle;\n    }\n\n    .dataframe tbody tr th {\n        vertical-align: top;\n    }\n\n    .dataframe thead th {\n        text-align: right;\n    }\n</style>\n<table border=\"1\" class=\"dataframe\">\n  <thead>\n    <tr style=\"text-align: right;\">\n      <th></th>\n      <th>ID</th>\n      <th>type</th>\n      <th>x</th>\n      <th>y</th>\n      <th>z</th>\n    </tr>\n  </thead>\n  <tbody>\n    <tr>\n      <th>0</th>\n      <td>95</td>\n      <td>2</td>\n      <td>0.000026</td>\n      <td>0.000020</td>\n      <td>0.000001</td>\n    </tr>\n    <tr>\n      <th>1</th>\n      <td>53</td>\n      <td>2</td>\n      <td>0.000024</td>\n      <td>0.000004</td>\n      <td>0.000003</td>\n    </tr>\n    <tr>\n      <th>2</th>\n      <td>62</td>\n      <td>2</td>\n      <td>0.000042</td>\n      <td>0.000006</td>\n      <td>0.000003</td>\n    </tr>\n    <tr>\n      <th>3</th>\n      <td>45</td>\n      <td>2</td>\n      <td>0.000027</td>\n      <td>0.000016</td>\n      <td>0.000003</td>\n    </tr>\n    <tr>\n      <th>4</th>\n      <td>26</td>\n      <td>1</td>\n      <td>0.000035</td>\n      <td>0.000003</td>\n      <td>0.000004</td>\n    </tr>\n    <tr>\n      <th>...</th>\n      <td>...</td>\n      <td>...</td>\n      <td>...</td>\n      <td>...</td>\n      <td>...</td>\n    </tr>\n    <tr>\n      <th>111</th>\n      <td>3</td>\n      <td>1</td>\n      <td>0.000096</td>\n      <td>0.000088</td>\n      <td>0.000006</td>\n    </tr>\n    <tr>\n      <th>112</th>\n      <td>110</td>\n      <td>2</td>\n      <td>0.000094</td>\n      <td>0.000093</td>\n      <td>0.000007</td>\n    </tr>\n    <tr>\n      <th>113</th>\n      <td>1</td>\n      <td>1</td>\n      <td>0.000053</td>\n      <td>0.000096</td>\n      <td>0.000008</td>\n    </tr>\n    <tr>\n      <th>114</th>\n      <td>89</td>\n      <td>2</td>\n      <td>0.000079</td>\n      <td>0.000090</td>\n      <td>0.000008</td>\n    </tr>\n    <tr>\n      <th>115</th>\n      <td>79</td>\n      <td>2</td>\n      <td>0.000086</td>\n      <td>0.000081</td>\n      <td>0.000009</td>\n    </tr>\n  </tbody>\n</table>\n<p>116 rows × 5 columns</p>\n</div>"
     },
     "metadata": {},
     "execution_count": 3
    }
   ],
   "source": [
    "df = x.get_positions()\n",
    "df"
   ]
  },
  {
   "cell_type": "code",
   "execution_count": 51,
   "metadata": {},
   "outputs": [
    {
     "output_type": "execute_result",
     "data": {
      "text/plain": [
       "array([2, 2, 2, 2, 1, 2, 2, 2, 2, 2, 2, 1, 2, 2, 2, 2, 2, 1, 2, 2, 2, 1,\n",
       "       1, 2, 2, 1, 1, 2, 2, 2, 2, 2, 2, 1, 2, 2, 2, 2, 2, 1, 1, 1, 1, 2,\n",
       "       1, 2, 1, 2, 1, 2, 2, 2, 2, 1, 2, 2, 2, 2, 1, 2, 1, 1, 2, 2, 2, 2,\n",
       "       2, 2, 2, 2, 2, 2, 2, 1, 2, 2, 2, 2, 2, 2, 1, 2, 2, 2, 2, 2, 1, 2,\n",
       "       2, 2, 2, 2, 2, 2, 2, 2, 2, 2, 2, 2, 2, 1, 2, 2, 1, 2, 2, 2, 2, 2,\n",
       "       2, 1, 2, 1, 2, 2])"
      ]
     },
     "metadata": {},
     "execution_count": 51
    }
   ],
   "source": [
    "\n",
    "x.h5['type']['0'].__array__()"
   ]
  },
  {
   "cell_type": "code",
   "execution_count": 18,
   "metadata": {},
   "outputs": [
    {
     "output_type": "execute_result",
     "data": {
      "text/plain": [
       "      ID  type  Distance\n",
       "0    211     2  0.000005\n",
       "1    649     2  0.000005\n",
       "2    388     2  0.000004\n",
       "3    376     2  0.000005\n",
       "4    650     2  0.000013\n",
       "..   ...   ...       ...\n",
       "684  491     2  0.000090\n",
       "685  590     2  0.000087\n",
       "686  330     2  0.000087\n",
       "687  532     2  0.000090\n",
       "688  671     2  0.000088\n",
       "\n",
       "[689 rows x 3 columns]"
      ],
      "text/html": "<div>\n<style scoped>\n    .dataframe tbody tr th:only-of-type {\n        vertical-align: middle;\n    }\n\n    .dataframe tbody tr th {\n        vertical-align: top;\n    }\n\n    .dataframe thead th {\n        text-align: right;\n    }\n</style>\n<table border=\"1\" class=\"dataframe\">\n  <thead>\n    <tr style=\"text-align: right;\">\n      <th></th>\n      <th>ID</th>\n      <th>type</th>\n      <th>Distance</th>\n    </tr>\n  </thead>\n  <tbody>\n    <tr>\n      <th>0</th>\n      <td>211</td>\n      <td>2</td>\n      <td>0.000005</td>\n    </tr>\n    <tr>\n      <th>1</th>\n      <td>649</td>\n      <td>2</td>\n      <td>0.000005</td>\n    </tr>\n    <tr>\n      <th>2</th>\n      <td>388</td>\n      <td>2</td>\n      <td>0.000004</td>\n    </tr>\n    <tr>\n      <th>3</th>\n      <td>376</td>\n      <td>2</td>\n      <td>0.000005</td>\n    </tr>\n    <tr>\n      <th>4</th>\n      <td>650</td>\n      <td>2</td>\n      <td>0.000013</td>\n    </tr>\n    <tr>\n      <th>...</th>\n      <td>...</td>\n      <td>...</td>\n      <td>...</td>\n    </tr>\n    <tr>\n      <th>684</th>\n      <td>491</td>\n      <td>2</td>\n      <td>0.000090</td>\n    </tr>\n    <tr>\n      <th>685</th>\n      <td>590</td>\n      <td>2</td>\n      <td>0.000087</td>\n    </tr>\n    <tr>\n      <th>686</th>\n      <td>330</td>\n      <td>2</td>\n      <td>0.000087</td>\n    </tr>\n    <tr>\n      <th>687</th>\n      <td>532</td>\n      <td>2</td>\n      <td>0.000090</td>\n    </tr>\n    <tr>\n      <th>688</th>\n      <td>671</td>\n      <td>2</td>\n      <td>0.000088</td>\n    </tr>\n  </tbody>\n</table>\n<p>689 rows × 3 columns</p>\n</div>"
     },
     "metadata": {},
     "execution_count": 18
    }
   ],
   "source": [
    "def get_neighbor_distance(id,timepoint):\n",
    "    df = x.get_positions(timepoint)\n",
    "    temp = (df[df.ID ==id][['x','y','z']].squeeze() - df[df.ID !=id][['x','y','z']])**2\n",
    "    dist = pd.Series(np.sqrt(temp.x + temp.y + temp.z),name='Distance')\n",
    "    return pd.concat([df[df.ID !=id][['ID','type']],dist],axis=1).reset_index(drop=True)\n",
    "neigh = get_neighbor_distance(45,10000)\n",
    "neigh"
   ]
  },
  {
   "cell_type": "code",
   "execution_count": 22,
   "metadata": {},
   "outputs": [
    {
     "output_type": "execute_result",
     "data": {
      "text/plain": [
       "<AxesSubplot:xlabel='Distance', ylabel='Density'>"
      ]
     },
     "metadata": {},
     "execution_count": 22
    },
    {
     "output_type": "display_data",
     "data": {
      "text/plain": "<Figure size 432x288 with 1 Axes>",
      "image/svg+xml": "<?xml version=\"1.0\" encoding=\"utf-8\" standalone=\"no\"?>\r\n<!DOCTYPE svg PUBLIC \"-//W3C//DTD SVG 1.1//EN\"\r\n  \"http://www.w3.org/Graphics/SVG/1.1/DTD/svg11.dtd\">\r\n<svg height=\"262.19625pt\" version=\"1.1\" viewBox=\"0 0 415.953624 262.19625\" width=\"415.953624pt\" xmlns=\"http://www.w3.org/2000/svg\" xmlns:xlink=\"http://www.w3.org/1999/xlink\">\r\n <metadata>\r\n  <rdf:RDF xmlns:cc=\"http://creativecommons.org/ns#\" xmlns:dc=\"http://purl.org/dc/elements/1.1/\" xmlns:rdf=\"http://www.w3.org/1999/02/22-rdf-syntax-ns#\">\r\n   <cc:Work>\r\n    <dc:type rdf:resource=\"http://purl.org/dc/dcmitype/StillImage\"/>\r\n    <dc:date>2021-06-21T17:41:21.547200</dc:date>\r\n    <dc:format>image/svg+xml</dc:format>\r\n    <dc:creator>\r\n     <cc:Agent>\r\n      <dc:title>Matplotlib v3.4.2, https://matplotlib.org/</dc:title>\r\n     </cc:Agent>\r\n    </dc:creator>\r\n   </cc:Work>\r\n  </rdf:RDF>\r\n </metadata>\r\n <defs>\r\n  <style type=\"text/css\">*{stroke-linecap:butt;stroke-linejoin:round;}</style>\r\n </defs>\r\n <g id=\"figure_1\">\r\n  <g id=\"patch_1\">\r\n   <path d=\"M 0 262.19625 \r\nL 415.953624 262.19625 \r\nL 415.953624 0 \r\nL 0 0 \r\nz\r\n\" style=\"fill:none;\"/>\r\n  </g>\r\n  <g id=\"axes_1\">\r\n   <g id=\"patch_2\">\r\n    <path d=\"M 59.690625 224.64 \r\nL 394.490625 224.64 \r\nL 394.490625 7.2 \r\nL 59.690625 7.2 \r\nz\r\n\" style=\"fill:#ffffff;\"/>\r\n   </g>\r\n   <g id=\"matplotlib.axis_1\">\r\n    <g id=\"xtick_1\">\r\n     <g id=\"line2d_1\">\r\n      <defs>\r\n       <path d=\"M 0 0 \r\nL 0 3.5 \r\n\" id=\"m8a9b54fe3a\" style=\"stroke:#000000;stroke-width:0.8;\"/>\r\n      </defs>\r\n      <g>\r\n       <use style=\"stroke:#000000;stroke-width:0.8;\" x=\"81.240128\" xlink:href=\"#m8a9b54fe3a\" y=\"224.64\"/>\r\n      </g>\r\n     </g>\r\n     <g id=\"text_1\">\r\n      <!-- −0.00002 -->\r\n      <g transform=\"translate(56.373722 239.238437)scale(0.1 -0.1)\">\r\n       <defs>\r\n        <path d=\"M 678 2272 \r\nL 4684 2272 \r\nL 4684 1741 \r\nL 678 1741 \r\nL 678 2272 \r\nz\r\n\" id=\"DejaVuSans-2212\" transform=\"scale(0.015625)\"/>\r\n        <path d=\"M 2034 4250 \r\nQ 1547 4250 1301 3770 \r\nQ 1056 3291 1056 2328 \r\nQ 1056 1369 1301 889 \r\nQ 1547 409 2034 409 \r\nQ 2525 409 2770 889 \r\nQ 3016 1369 3016 2328 \r\nQ 3016 3291 2770 3770 \r\nQ 2525 4250 2034 4250 \r\nz\r\nM 2034 4750 \r\nQ 2819 4750 3233 4129 \r\nQ 3647 3509 3647 2328 \r\nQ 3647 1150 3233 529 \r\nQ 2819 -91 2034 -91 \r\nQ 1250 -91 836 529 \r\nQ 422 1150 422 2328 \r\nQ 422 3509 836 4129 \r\nQ 1250 4750 2034 4750 \r\nz\r\n\" id=\"DejaVuSans-30\" transform=\"scale(0.015625)\"/>\r\n        <path d=\"M 684 794 \r\nL 1344 794 \r\nL 1344 0 \r\nL 684 0 \r\nL 684 794 \r\nz\r\n\" id=\"DejaVuSans-2e\" transform=\"scale(0.015625)\"/>\r\n        <path d=\"M 1228 531 \r\nL 3431 531 \r\nL 3431 0 \r\nL 469 0 \r\nL 469 531 \r\nQ 828 903 1448 1529 \r\nQ 2069 2156 2228 2338 \r\nQ 2531 2678 2651 2914 \r\nQ 2772 3150 2772 3378 \r\nQ 2772 3750 2511 3984 \r\nQ 2250 4219 1831 4219 \r\nQ 1534 4219 1204 4116 \r\nQ 875 4013 500 3803 \r\nL 500 4441 \r\nQ 881 4594 1212 4672 \r\nQ 1544 4750 1819 4750 \r\nQ 2544 4750 2975 4387 \r\nQ 3406 4025 3406 3419 \r\nQ 3406 3131 3298 2873 \r\nQ 3191 2616 2906 2266 \r\nQ 2828 2175 2409 1742 \r\nQ 1991 1309 1228 531 \r\nz\r\n\" id=\"DejaVuSans-32\" transform=\"scale(0.015625)\"/>\r\n       </defs>\r\n       <use xlink:href=\"#DejaVuSans-2212\"/>\r\n       <use x=\"83.789062\" xlink:href=\"#DejaVuSans-30\"/>\r\n       <use x=\"147.412109\" xlink:href=\"#DejaVuSans-2e\"/>\r\n       <use x=\"179.199219\" xlink:href=\"#DejaVuSans-30\"/>\r\n       <use x=\"242.822266\" xlink:href=\"#DejaVuSans-30\"/>\r\n       <use x=\"306.445312\" xlink:href=\"#DejaVuSans-30\"/>\r\n       <use x=\"370.068359\" xlink:href=\"#DejaVuSans-30\"/>\r\n       <use x=\"433.691406\" xlink:href=\"#DejaVuSans-32\"/>\r\n      </g>\r\n     </g>\r\n    </g>\r\n    <g id=\"xtick_2\">\r\n     <g id=\"line2d_2\">\r\n      <g>\r\n       <use style=\"stroke:#000000;stroke-width:0.8;\" x=\"119.594745\" xlink:href=\"#m8a9b54fe3a\" y=\"224.64\"/>\r\n      </g>\r\n     </g>\r\n     <g id=\"text_2\">\r\n      <!-- 0.00000 -->\r\n      <g transform=\"translate(98.918183 239.238437)scale(0.1 -0.1)\">\r\n       <use xlink:href=\"#DejaVuSans-30\"/>\r\n       <use x=\"63.623047\" xlink:href=\"#DejaVuSans-2e\"/>\r\n       <use x=\"95.410156\" xlink:href=\"#DejaVuSans-30\"/>\r\n       <use x=\"159.033203\" xlink:href=\"#DejaVuSans-30\"/>\r\n       <use x=\"222.65625\" xlink:href=\"#DejaVuSans-30\"/>\r\n       <use x=\"286.279297\" xlink:href=\"#DejaVuSans-30\"/>\r\n       <use x=\"349.902344\" xlink:href=\"#DejaVuSans-30\"/>\r\n      </g>\r\n     </g>\r\n    </g>\r\n    <g id=\"xtick_3\">\r\n     <g id=\"line2d_3\">\r\n      <g>\r\n       <use style=\"stroke:#000000;stroke-width:0.8;\" x=\"157.949362\" xlink:href=\"#m8a9b54fe3a\" y=\"224.64\"/>\r\n      </g>\r\n     </g>\r\n     <g id=\"text_3\">\r\n      <!-- 0.00002 -->\r\n      <g transform=\"translate(137.272799 239.238437)scale(0.1 -0.1)\">\r\n       <use xlink:href=\"#DejaVuSans-30\"/>\r\n       <use x=\"63.623047\" xlink:href=\"#DejaVuSans-2e\"/>\r\n       <use x=\"95.410156\" xlink:href=\"#DejaVuSans-30\"/>\r\n       <use x=\"159.033203\" xlink:href=\"#DejaVuSans-30\"/>\r\n       <use x=\"222.65625\" xlink:href=\"#DejaVuSans-30\"/>\r\n       <use x=\"286.279297\" xlink:href=\"#DejaVuSans-30\"/>\r\n       <use x=\"349.902344\" xlink:href=\"#DejaVuSans-32\"/>\r\n      </g>\r\n     </g>\r\n    </g>\r\n    <g id=\"xtick_4\">\r\n     <g id=\"line2d_4\">\r\n      <g>\r\n       <use style=\"stroke:#000000;stroke-width:0.8;\" x=\"196.303978\" xlink:href=\"#m8a9b54fe3a\" y=\"224.64\"/>\r\n      </g>\r\n     </g>\r\n     <g id=\"text_4\">\r\n      <!-- 0.00004 -->\r\n      <g transform=\"translate(175.627416 239.238437)scale(0.1 -0.1)\">\r\n       <defs>\r\n        <path d=\"M 2419 4116 \r\nL 825 1625 \r\nL 2419 1625 \r\nL 2419 4116 \r\nz\r\nM 2253 4666 \r\nL 3047 4666 \r\nL 3047 1625 \r\nL 3713 1625 \r\nL 3713 1100 \r\nL 3047 1100 \r\nL 3047 0 \r\nL 2419 0 \r\nL 2419 1100 \r\nL 313 1100 \r\nL 313 1709 \r\nL 2253 4666 \r\nz\r\n\" id=\"DejaVuSans-34\" transform=\"scale(0.015625)\"/>\r\n       </defs>\r\n       <use xlink:href=\"#DejaVuSans-30\"/>\r\n       <use x=\"63.623047\" xlink:href=\"#DejaVuSans-2e\"/>\r\n       <use x=\"95.410156\" xlink:href=\"#DejaVuSans-30\"/>\r\n       <use x=\"159.033203\" xlink:href=\"#DejaVuSans-30\"/>\r\n       <use x=\"222.65625\" xlink:href=\"#DejaVuSans-30\"/>\r\n       <use x=\"286.279297\" xlink:href=\"#DejaVuSans-30\"/>\r\n       <use x=\"349.902344\" xlink:href=\"#DejaVuSans-34\"/>\r\n      </g>\r\n     </g>\r\n    </g>\r\n    <g id=\"xtick_5\">\r\n     <g id=\"line2d_5\">\r\n      <g>\r\n       <use style=\"stroke:#000000;stroke-width:0.8;\" x=\"234.658595\" xlink:href=\"#m8a9b54fe3a\" y=\"224.64\"/>\r\n      </g>\r\n     </g>\r\n     <g id=\"text_5\">\r\n      <!-- 0.00006 -->\r\n      <g transform=\"translate(213.982033 239.238437)scale(0.1 -0.1)\">\r\n       <defs>\r\n        <path d=\"M 2113 2584 \r\nQ 1688 2584 1439 2293 \r\nQ 1191 2003 1191 1497 \r\nQ 1191 994 1439 701 \r\nQ 1688 409 2113 409 \r\nQ 2538 409 2786 701 \r\nQ 3034 994 3034 1497 \r\nQ 3034 2003 2786 2293 \r\nQ 2538 2584 2113 2584 \r\nz\r\nM 3366 4563 \r\nL 3366 3988 \r\nQ 3128 4100 2886 4159 \r\nQ 2644 4219 2406 4219 \r\nQ 1781 4219 1451 3797 \r\nQ 1122 3375 1075 2522 \r\nQ 1259 2794 1537 2939 \r\nQ 1816 3084 2150 3084 \r\nQ 2853 3084 3261 2657 \r\nQ 3669 2231 3669 1497 \r\nQ 3669 778 3244 343 \r\nQ 2819 -91 2113 -91 \r\nQ 1303 -91 875 529 \r\nQ 447 1150 447 2328 \r\nQ 447 3434 972 4092 \r\nQ 1497 4750 2381 4750 \r\nQ 2619 4750 2861 4703 \r\nQ 3103 4656 3366 4563 \r\nz\r\n\" id=\"DejaVuSans-36\" transform=\"scale(0.015625)\"/>\r\n       </defs>\r\n       <use xlink:href=\"#DejaVuSans-30\"/>\r\n       <use x=\"63.623047\" xlink:href=\"#DejaVuSans-2e\"/>\r\n       <use x=\"95.410156\" xlink:href=\"#DejaVuSans-30\"/>\r\n       <use x=\"159.033203\" xlink:href=\"#DejaVuSans-30\"/>\r\n       <use x=\"222.65625\" xlink:href=\"#DejaVuSans-30\"/>\r\n       <use x=\"286.279297\" xlink:href=\"#DejaVuSans-30\"/>\r\n       <use x=\"349.902344\" xlink:href=\"#DejaVuSans-36\"/>\r\n      </g>\r\n     </g>\r\n    </g>\r\n    <g id=\"xtick_6\">\r\n     <g id=\"line2d_6\">\r\n      <g>\r\n       <use style=\"stroke:#000000;stroke-width:0.8;\" x=\"273.013212\" xlink:href=\"#m8a9b54fe3a\" y=\"224.64\"/>\r\n      </g>\r\n     </g>\r\n     <g id=\"text_6\">\r\n      <!-- 0.00008 -->\r\n      <g transform=\"translate(252.336649 239.238437)scale(0.1 -0.1)\">\r\n       <defs>\r\n        <path d=\"M 2034 2216 \r\nQ 1584 2216 1326 1975 \r\nQ 1069 1734 1069 1313 \r\nQ 1069 891 1326 650 \r\nQ 1584 409 2034 409 \r\nQ 2484 409 2743 651 \r\nQ 3003 894 3003 1313 \r\nQ 3003 1734 2745 1975 \r\nQ 2488 2216 2034 2216 \r\nz\r\nM 1403 2484 \r\nQ 997 2584 770 2862 \r\nQ 544 3141 544 3541 \r\nQ 544 4100 942 4425 \r\nQ 1341 4750 2034 4750 \r\nQ 2731 4750 3128 4425 \r\nQ 3525 4100 3525 3541 \r\nQ 3525 3141 3298 2862 \r\nQ 3072 2584 2669 2484 \r\nQ 3125 2378 3379 2068 \r\nQ 3634 1759 3634 1313 \r\nQ 3634 634 3220 271 \r\nQ 2806 -91 2034 -91 \r\nQ 1263 -91 848 271 \r\nQ 434 634 434 1313 \r\nQ 434 1759 690 2068 \r\nQ 947 2378 1403 2484 \r\nz\r\nM 1172 3481 \r\nQ 1172 3119 1398 2916 \r\nQ 1625 2713 2034 2713 \r\nQ 2441 2713 2670 2916 \r\nQ 2900 3119 2900 3481 \r\nQ 2900 3844 2670 4047 \r\nQ 2441 4250 2034 4250 \r\nQ 1625 4250 1398 4047 \r\nQ 1172 3844 1172 3481 \r\nz\r\n\" id=\"DejaVuSans-38\" transform=\"scale(0.015625)\"/>\r\n       </defs>\r\n       <use xlink:href=\"#DejaVuSans-30\"/>\r\n       <use x=\"63.623047\" xlink:href=\"#DejaVuSans-2e\"/>\r\n       <use x=\"95.410156\" xlink:href=\"#DejaVuSans-30\"/>\r\n       <use x=\"159.033203\" xlink:href=\"#DejaVuSans-30\"/>\r\n       <use x=\"222.65625\" xlink:href=\"#DejaVuSans-30\"/>\r\n       <use x=\"286.279297\" xlink:href=\"#DejaVuSans-30\"/>\r\n       <use x=\"349.902344\" xlink:href=\"#DejaVuSans-38\"/>\r\n      </g>\r\n     </g>\r\n    </g>\r\n    <g id=\"xtick_7\">\r\n     <g id=\"line2d_7\">\r\n      <g>\r\n       <use style=\"stroke:#000000;stroke-width:0.8;\" x=\"311.367828\" xlink:href=\"#m8a9b54fe3a\" y=\"224.64\"/>\r\n      </g>\r\n     </g>\r\n     <g id=\"text_7\">\r\n      <!-- 0.00010 -->\r\n      <g transform=\"translate(290.691266 239.238437)scale(0.1 -0.1)\">\r\n       <defs>\r\n        <path d=\"M 794 531 \r\nL 1825 531 \r\nL 1825 4091 \r\nL 703 3866 \r\nL 703 4441 \r\nL 1819 4666 \r\nL 2450 4666 \r\nL 2450 531 \r\nL 3481 531 \r\nL 3481 0 \r\nL 794 0 \r\nL 794 531 \r\nz\r\n\" id=\"DejaVuSans-31\" transform=\"scale(0.015625)\"/>\r\n       </defs>\r\n       <use xlink:href=\"#DejaVuSans-30\"/>\r\n       <use x=\"63.623047\" xlink:href=\"#DejaVuSans-2e\"/>\r\n       <use x=\"95.410156\" xlink:href=\"#DejaVuSans-30\"/>\r\n       <use x=\"159.033203\" xlink:href=\"#DejaVuSans-30\"/>\r\n       <use x=\"222.65625\" xlink:href=\"#DejaVuSans-30\"/>\r\n       <use x=\"286.279297\" xlink:href=\"#DejaVuSans-31\"/>\r\n       <use x=\"349.902344\" xlink:href=\"#DejaVuSans-30\"/>\r\n      </g>\r\n     </g>\r\n    </g>\r\n    <g id=\"xtick_8\">\r\n     <g id=\"line2d_8\">\r\n      <g>\r\n       <use style=\"stroke:#000000;stroke-width:0.8;\" x=\"349.722445\" xlink:href=\"#m8a9b54fe3a\" y=\"224.64\"/>\r\n      </g>\r\n     </g>\r\n     <g id=\"text_8\">\r\n      <!-- 0.00012 -->\r\n      <g transform=\"translate(329.045883 239.238437)scale(0.1 -0.1)\">\r\n       <use xlink:href=\"#DejaVuSans-30\"/>\r\n       <use x=\"63.623047\" xlink:href=\"#DejaVuSans-2e\"/>\r\n       <use x=\"95.410156\" xlink:href=\"#DejaVuSans-30\"/>\r\n       <use x=\"159.033203\" xlink:href=\"#DejaVuSans-30\"/>\r\n       <use x=\"222.65625\" xlink:href=\"#DejaVuSans-30\"/>\r\n       <use x=\"286.279297\" xlink:href=\"#DejaVuSans-31\"/>\r\n       <use x=\"349.902344\" xlink:href=\"#DejaVuSans-32\"/>\r\n      </g>\r\n     </g>\r\n    </g>\r\n    <g id=\"xtick_9\">\r\n     <g id=\"line2d_9\">\r\n      <g>\r\n       <use style=\"stroke:#000000;stroke-width:0.8;\" x=\"388.077062\" xlink:href=\"#m8a9b54fe3a\" y=\"224.64\"/>\r\n      </g>\r\n     </g>\r\n     <g id=\"text_9\">\r\n      <!-- 0.00014 -->\r\n      <g transform=\"translate(367.400499 239.238437)scale(0.1 -0.1)\">\r\n       <use xlink:href=\"#DejaVuSans-30\"/>\r\n       <use x=\"63.623047\" xlink:href=\"#DejaVuSans-2e\"/>\r\n       <use x=\"95.410156\" xlink:href=\"#DejaVuSans-30\"/>\r\n       <use x=\"159.033203\" xlink:href=\"#DejaVuSans-30\"/>\r\n       <use x=\"222.65625\" xlink:href=\"#DejaVuSans-30\"/>\r\n       <use x=\"286.279297\" xlink:href=\"#DejaVuSans-31\"/>\r\n       <use x=\"349.902344\" xlink:href=\"#DejaVuSans-34\"/>\r\n      </g>\r\n     </g>\r\n    </g>\r\n    <g id=\"text_10\">\r\n     <!-- Distance -->\r\n     <g transform=\"translate(205.228125 252.916562)scale(0.1 -0.1)\">\r\n      <defs>\r\n       <path d=\"M 1259 4147 \r\nL 1259 519 \r\nL 2022 519 \r\nQ 2988 519 3436 956 \r\nQ 3884 1394 3884 2338 \r\nQ 3884 3275 3436 3711 \r\nQ 2988 4147 2022 4147 \r\nL 1259 4147 \r\nz\r\nM 628 4666 \r\nL 1925 4666 \r\nQ 3281 4666 3915 4102 \r\nQ 4550 3538 4550 2338 \r\nQ 4550 1131 3912 565 \r\nQ 3275 0 1925 0 \r\nL 628 0 \r\nL 628 4666 \r\nz\r\n\" id=\"DejaVuSans-44\" transform=\"scale(0.015625)\"/>\r\n       <path d=\"M 603 3500 \r\nL 1178 3500 \r\nL 1178 0 \r\nL 603 0 \r\nL 603 3500 \r\nz\r\nM 603 4863 \r\nL 1178 4863 \r\nL 1178 4134 \r\nL 603 4134 \r\nL 603 4863 \r\nz\r\n\" id=\"DejaVuSans-69\" transform=\"scale(0.015625)\"/>\r\n       <path d=\"M 2834 3397 \r\nL 2834 2853 \r\nQ 2591 2978 2328 3040 \r\nQ 2066 3103 1784 3103 \r\nQ 1356 3103 1142 2972 \r\nQ 928 2841 928 2578 \r\nQ 928 2378 1081 2264 \r\nQ 1234 2150 1697 2047 \r\nL 1894 2003 \r\nQ 2506 1872 2764 1633 \r\nQ 3022 1394 3022 966 \r\nQ 3022 478 2636 193 \r\nQ 2250 -91 1575 -91 \r\nQ 1294 -91 989 -36 \r\nQ 684 19 347 128 \r\nL 347 722 \r\nQ 666 556 975 473 \r\nQ 1284 391 1588 391 \r\nQ 1994 391 2212 530 \r\nQ 2431 669 2431 922 \r\nQ 2431 1156 2273 1281 \r\nQ 2116 1406 1581 1522 \r\nL 1381 1569 \r\nQ 847 1681 609 1914 \r\nQ 372 2147 372 2553 \r\nQ 372 3047 722 3315 \r\nQ 1072 3584 1716 3584 \r\nQ 2034 3584 2315 3537 \r\nQ 2597 3491 2834 3397 \r\nz\r\n\" id=\"DejaVuSans-73\" transform=\"scale(0.015625)\"/>\r\n       <path d=\"M 1172 4494 \r\nL 1172 3500 \r\nL 2356 3500 \r\nL 2356 3053 \r\nL 1172 3053 \r\nL 1172 1153 \r\nQ 1172 725 1289 603 \r\nQ 1406 481 1766 481 \r\nL 2356 481 \r\nL 2356 0 \r\nL 1766 0 \r\nQ 1100 0 847 248 \r\nQ 594 497 594 1153 \r\nL 594 3053 \r\nL 172 3053 \r\nL 172 3500 \r\nL 594 3500 \r\nL 594 4494 \r\nL 1172 4494 \r\nz\r\n\" id=\"DejaVuSans-74\" transform=\"scale(0.015625)\"/>\r\n       <path d=\"M 2194 1759 \r\nQ 1497 1759 1228 1600 \r\nQ 959 1441 959 1056 \r\nQ 959 750 1161 570 \r\nQ 1363 391 1709 391 \r\nQ 2188 391 2477 730 \r\nQ 2766 1069 2766 1631 \r\nL 2766 1759 \r\nL 2194 1759 \r\nz\r\nM 3341 1997 \r\nL 3341 0 \r\nL 2766 0 \r\nL 2766 531 \r\nQ 2569 213 2275 61 \r\nQ 1981 -91 1556 -91 \r\nQ 1019 -91 701 211 \r\nQ 384 513 384 1019 \r\nQ 384 1609 779 1909 \r\nQ 1175 2209 1959 2209 \r\nL 2766 2209 \r\nL 2766 2266 \r\nQ 2766 2663 2505 2880 \r\nQ 2244 3097 1772 3097 \r\nQ 1472 3097 1187 3025 \r\nQ 903 2953 641 2809 \r\nL 641 3341 \r\nQ 956 3463 1253 3523 \r\nQ 1550 3584 1831 3584 \r\nQ 2591 3584 2966 3190 \r\nQ 3341 2797 3341 1997 \r\nz\r\n\" id=\"DejaVuSans-61\" transform=\"scale(0.015625)\"/>\r\n       <path d=\"M 3513 2113 \r\nL 3513 0 \r\nL 2938 0 \r\nL 2938 2094 \r\nQ 2938 2591 2744 2837 \r\nQ 2550 3084 2163 3084 \r\nQ 1697 3084 1428 2787 \r\nQ 1159 2491 1159 1978 \r\nL 1159 0 \r\nL 581 0 \r\nL 581 3500 \r\nL 1159 3500 \r\nL 1159 2956 \r\nQ 1366 3272 1645 3428 \r\nQ 1925 3584 2291 3584 \r\nQ 2894 3584 3203 3211 \r\nQ 3513 2838 3513 2113 \r\nz\r\n\" id=\"DejaVuSans-6e\" transform=\"scale(0.015625)\"/>\r\n       <path d=\"M 3122 3366 \r\nL 3122 2828 \r\nQ 2878 2963 2633 3030 \r\nQ 2388 3097 2138 3097 \r\nQ 1578 3097 1268 2742 \r\nQ 959 2388 959 1747 \r\nQ 959 1106 1268 751 \r\nQ 1578 397 2138 397 \r\nQ 2388 397 2633 464 \r\nQ 2878 531 3122 666 \r\nL 3122 134 \r\nQ 2881 22 2623 -34 \r\nQ 2366 -91 2075 -91 \r\nQ 1284 -91 818 406 \r\nQ 353 903 353 1747 \r\nQ 353 2603 823 3093 \r\nQ 1294 3584 2113 3584 \r\nQ 2378 3584 2631 3529 \r\nQ 2884 3475 3122 3366 \r\nz\r\n\" id=\"DejaVuSans-63\" transform=\"scale(0.015625)\"/>\r\n       <path d=\"M 3597 1894 \r\nL 3597 1613 \r\nL 953 1613 \r\nQ 991 1019 1311 708 \r\nQ 1631 397 2203 397 \r\nQ 2534 397 2845 478 \r\nQ 3156 559 3463 722 \r\nL 3463 178 \r\nQ 3153 47 2828 -22 \r\nQ 2503 -91 2169 -91 \r\nQ 1331 -91 842 396 \r\nQ 353 884 353 1716 \r\nQ 353 2575 817 3079 \r\nQ 1281 3584 2069 3584 \r\nQ 2775 3584 3186 3129 \r\nQ 3597 2675 3597 1894 \r\nz\r\nM 3022 2063 \r\nQ 3016 2534 2758 2815 \r\nQ 2500 3097 2075 3097 \r\nQ 1594 3097 1305 2825 \r\nQ 1016 2553 972 2059 \r\nL 3022 2063 \r\nz\r\n\" id=\"DejaVuSans-65\" transform=\"scale(0.015625)\"/>\r\n      </defs>\r\n      <use xlink:href=\"#DejaVuSans-44\"/>\r\n      <use x=\"77.001953\" xlink:href=\"#DejaVuSans-69\"/>\r\n      <use x=\"104.785156\" xlink:href=\"#DejaVuSans-73\"/>\r\n      <use x=\"156.884766\" xlink:href=\"#DejaVuSans-74\"/>\r\n      <use x=\"196.09375\" xlink:href=\"#DejaVuSans-61\"/>\r\n      <use x=\"257.373047\" xlink:href=\"#DejaVuSans-6e\"/>\r\n      <use x=\"320.751953\" xlink:href=\"#DejaVuSans-63\"/>\r\n      <use x=\"375.732422\" xlink:href=\"#DejaVuSans-65\"/>\r\n     </g>\r\n    </g>\r\n   </g>\r\n   <g id=\"matplotlib.axis_2\">\r\n    <g id=\"ytick_1\">\r\n     <g id=\"line2d_10\">\r\n      <defs>\r\n       <path d=\"M 0 0 \r\nL -3.5 0 \r\n\" id=\"m96224d10ca\" style=\"stroke:#000000;stroke-width:0.8;\"/>\r\n      </defs>\r\n      <g>\r\n       <use style=\"stroke:#000000;stroke-width:0.8;\" x=\"59.690625\" xlink:href=\"#m96224d10ca\" y=\"224.64\"/>\r\n      </g>\r\n     </g>\r\n     <g id=\"text_11\">\r\n      <!-- 0 -->\r\n      <g transform=\"translate(46.328125 228.439219)scale(0.1 -0.1)\">\r\n       <use xlink:href=\"#DejaVuSans-30\"/>\r\n      </g>\r\n     </g>\r\n    </g>\r\n    <g id=\"ytick_2\">\r\n     <g id=\"line2d_11\">\r\n      <g>\r\n       <use style=\"stroke:#000000;stroke-width:0.8;\" x=\"59.690625\" xlink:href=\"#m96224d10ca\" y=\"191.537692\"/>\r\n      </g>\r\n     </g>\r\n     <g id=\"text_12\">\r\n      <!-- 2000 -->\r\n      <g transform=\"translate(27.240625 195.336911)scale(0.1 -0.1)\">\r\n       <use xlink:href=\"#DejaVuSans-32\"/>\r\n       <use x=\"63.623047\" xlink:href=\"#DejaVuSans-30\"/>\r\n       <use x=\"127.246094\" xlink:href=\"#DejaVuSans-30\"/>\r\n       <use x=\"190.869141\" xlink:href=\"#DejaVuSans-30\"/>\r\n      </g>\r\n     </g>\r\n    </g>\r\n    <g id=\"ytick_3\">\r\n     <g id=\"line2d_12\">\r\n      <g>\r\n       <use style=\"stroke:#000000;stroke-width:0.8;\" x=\"59.690625\" xlink:href=\"#m96224d10ca\" y=\"158.435384\"/>\r\n      </g>\r\n     </g>\r\n     <g id=\"text_13\">\r\n      <!-- 4000 -->\r\n      <g transform=\"translate(27.240625 162.234603)scale(0.1 -0.1)\">\r\n       <use xlink:href=\"#DejaVuSans-34\"/>\r\n       <use x=\"63.623047\" xlink:href=\"#DejaVuSans-30\"/>\r\n       <use x=\"127.246094\" xlink:href=\"#DejaVuSans-30\"/>\r\n       <use x=\"190.869141\" xlink:href=\"#DejaVuSans-30\"/>\r\n      </g>\r\n     </g>\r\n    </g>\r\n    <g id=\"ytick_4\">\r\n     <g id=\"line2d_13\">\r\n      <g>\r\n       <use style=\"stroke:#000000;stroke-width:0.8;\" x=\"59.690625\" xlink:href=\"#m96224d10ca\" y=\"125.333076\"/>\r\n      </g>\r\n     </g>\r\n     <g id=\"text_14\">\r\n      <!-- 6000 -->\r\n      <g transform=\"translate(27.240625 129.132295)scale(0.1 -0.1)\">\r\n       <use xlink:href=\"#DejaVuSans-36\"/>\r\n       <use x=\"63.623047\" xlink:href=\"#DejaVuSans-30\"/>\r\n       <use x=\"127.246094\" xlink:href=\"#DejaVuSans-30\"/>\r\n       <use x=\"190.869141\" xlink:href=\"#DejaVuSans-30\"/>\r\n      </g>\r\n     </g>\r\n    </g>\r\n    <g id=\"ytick_5\">\r\n     <g id=\"line2d_14\">\r\n      <g>\r\n       <use style=\"stroke:#000000;stroke-width:0.8;\" x=\"59.690625\" xlink:href=\"#m96224d10ca\" y=\"92.230768\"/>\r\n      </g>\r\n     </g>\r\n     <g id=\"text_15\">\r\n      <!-- 8000 -->\r\n      <g transform=\"translate(27.240625 96.029987)scale(0.1 -0.1)\">\r\n       <use xlink:href=\"#DejaVuSans-38\"/>\r\n       <use x=\"63.623047\" xlink:href=\"#DejaVuSans-30\"/>\r\n       <use x=\"127.246094\" xlink:href=\"#DejaVuSans-30\"/>\r\n       <use x=\"190.869141\" xlink:href=\"#DejaVuSans-30\"/>\r\n      </g>\r\n     </g>\r\n    </g>\r\n    <g id=\"ytick_6\">\r\n     <g id=\"line2d_15\">\r\n      <g>\r\n       <use style=\"stroke:#000000;stroke-width:0.8;\" x=\"59.690625\" xlink:href=\"#m96224d10ca\" y=\"59.12846\"/>\r\n      </g>\r\n     </g>\r\n     <g id=\"text_16\">\r\n      <!-- 10000 -->\r\n      <g transform=\"translate(20.878125 62.927679)scale(0.1 -0.1)\">\r\n       <use xlink:href=\"#DejaVuSans-31\"/>\r\n       <use x=\"63.623047\" xlink:href=\"#DejaVuSans-30\"/>\r\n       <use x=\"127.246094\" xlink:href=\"#DejaVuSans-30\"/>\r\n       <use x=\"190.869141\" xlink:href=\"#DejaVuSans-30\"/>\r\n       <use x=\"254.492188\" xlink:href=\"#DejaVuSans-30\"/>\r\n      </g>\r\n     </g>\r\n    </g>\r\n    <g id=\"ytick_7\">\r\n     <g id=\"line2d_16\">\r\n      <g>\r\n       <use style=\"stroke:#000000;stroke-width:0.8;\" x=\"59.690625\" xlink:href=\"#m96224d10ca\" y=\"26.026152\"/>\r\n      </g>\r\n     </g>\r\n     <g id=\"text_17\">\r\n      <!-- 12000 -->\r\n      <g transform=\"translate(20.878125 29.825371)scale(0.1 -0.1)\">\r\n       <use xlink:href=\"#DejaVuSans-31\"/>\r\n       <use x=\"63.623047\" xlink:href=\"#DejaVuSans-32\"/>\r\n       <use x=\"127.246094\" xlink:href=\"#DejaVuSans-30\"/>\r\n       <use x=\"190.869141\" xlink:href=\"#DejaVuSans-30\"/>\r\n       <use x=\"254.492188\" xlink:href=\"#DejaVuSans-30\"/>\r\n      </g>\r\n     </g>\r\n    </g>\r\n    <g id=\"text_18\">\r\n     <!-- Density -->\r\n     <g transform=\"translate(14.798438 134.928594)rotate(-90)scale(0.1 -0.1)\">\r\n      <defs>\r\n       <path d=\"M 2059 -325 \r\nQ 1816 -950 1584 -1140 \r\nQ 1353 -1331 966 -1331 \r\nL 506 -1331 \r\nL 506 -850 \r\nL 844 -850 \r\nQ 1081 -850 1212 -737 \r\nQ 1344 -625 1503 -206 \r\nL 1606 56 \r\nL 191 3500 \r\nL 800 3500 \r\nL 1894 763 \r\nL 2988 3500 \r\nL 3597 3500 \r\nL 2059 -325 \r\nz\r\n\" id=\"DejaVuSans-79\" transform=\"scale(0.015625)\"/>\r\n      </defs>\r\n      <use xlink:href=\"#DejaVuSans-44\"/>\r\n      <use x=\"77.001953\" xlink:href=\"#DejaVuSans-65\"/>\r\n      <use x=\"138.525391\" xlink:href=\"#DejaVuSans-6e\"/>\r\n      <use x=\"201.904297\" xlink:href=\"#DejaVuSans-73\"/>\r\n      <use x=\"254.003906\" xlink:href=\"#DejaVuSans-69\"/>\r\n      <use x=\"281.787109\" xlink:href=\"#DejaVuSans-74\"/>\r\n      <use x=\"320.996094\" xlink:href=\"#DejaVuSans-79\"/>\r\n     </g>\r\n    </g>\r\n   </g>\r\n   <g id=\"line2d_17\">\r\n    <path clip-path=\"url(#p652e13f340)\" d=\"M 80.064222 224.533103 \r\nL 85.632548 224.276869 \r\nL 89.808793 223.811461 \r\nL 92.592956 223.263037 \r\nL 95.377119 222.423911 \r\nL 98.161282 221.18127 \r\nL 99.553364 220.366508 \r\nL 100.945446 219.397217 \r\nL 102.337527 218.252391 \r\nL 103.729609 216.909701 \r\nL 105.12169 215.345668 \r\nL 106.513772 213.535895 \r\nL 107.905854 211.455378 \r\nL 109.297935 209.078896 \r\nL 110.690017 206.381513 \r\nL 112.082098 203.339195 \r\nL 113.47418 199.929564 \r\nL 114.866262 196.132785 \r\nL 116.258343 191.932607 \r\nL 117.650425 187.317526 \r\nL 119.042506 182.282057 \r\nL 121.826669 170.966072 \r\nL 124.610833 158.111037 \r\nL 127.394996 144.017372 \r\nL 135.747485 100.082286 \r\nL 138.531649 87.473173 \r\nL 139.92373 82.004848 \r\nL 141.315812 77.204511 \r\nL 142.707893 73.135389 \r\nL 144.099975 69.841097 \r\nL 145.492056 67.343217 \r\nL 146.884138 65.63978 \r\nL 148.27622 64.70476 \r\nL 149.668301 64.488656 \r\nL 151.060383 64.920155 \r\nL 152.452464 65.908799 \r\nL 153.844546 67.348541 \r\nL 155.236628 69.121999 \r\nL 160.804954 77.078201 \r\nL 162.197036 78.700109 \r\nL 163.589117 79.980841 \r\nL 164.981199 80.852253 \r\nL 166.37328 81.266321 \r\nL 167.765362 81.195967 \r\nL 169.157443 80.634947 \r\nL 170.549525 79.59688 \r\nL 171.941607 78.113505 \r\nL 173.333688 76.232315 \r\nL 174.72577 74.013704 \r\nL 177.509933 68.851193 \r\nL 183.078259 57.813661 \r\nL 184.470341 55.336672 \r\nL 185.862423 53.094203 \r\nL 187.254504 51.130174 \r\nL 188.646586 49.477385 \r\nL 190.038667 48.157277 \r\nL 191.430749 47.180121 \r\nL 192.82283 46.545577 \r\nL 194.214912 46.243552 \r\nL 195.606994 46.255316 \r\nL 196.999075 46.554773 \r\nL 198.391157 47.109847 \r\nL 199.783238 47.88388 \r\nL 201.17532 48.837002 \r\nL 203.959483 51.112391 \r\nL 209.527809 55.960819 \r\nL 210.919891 57.001414 \r\nL 212.311973 57.899466 \r\nL 213.704054 58.620856 \r\nL 215.096136 59.133096 \r\nL 216.488217 59.40545 \r\nL 217.880299 59.40925 \r\nL 219.272381 59.118453 \r\nL 220.664462 58.510483 \r\nL 222.056544 57.567331 \r\nL 223.448625 56.276905 \r\nL 224.840707 54.634542 \r\nL 226.232789 52.644584 \r\nL 227.62487 50.321891 \r\nL 229.016952 47.69314 \r\nL 231.801115 41.688467 \r\nL 238.761523 25.624356 \r\nL 240.153604 22.971711 \r\nL 241.545686 20.745369 \r\nL 242.937768 19.043184 \r\nL 244.329849 17.953744 \r\nL 245.721931 17.552802 \r\nL 247.114012 17.900169 \r\nL 248.506094 19.037238 \r\nL 249.898176 20.985268 \r\nL 251.290257 23.744521 \r\nL 252.682339 27.294268 \r\nL 254.07442 31.593661 \r\nL 255.466502 36.583392 \r\nL 256.858583 42.188045 \r\nL 259.642747 54.877616 \r\nL 263.818991 76.058275 \r\nL 267.995236 97.310153 \r\nL 270.779399 110.330369 \r\nL 273.563563 121.856435 \r\nL 274.955644 126.969382 \r\nL 276.347726 131.626439 \r\nL 277.739807 135.825154 \r\nL 279.131889 139.573127 \r\nL 280.52397 142.88654 \r\nL 281.916052 145.788592 \r\nL 283.308134 148.307934 \r\nL 284.700215 150.477194 \r\nL 286.092297 152.331655 \r\nL 287.484378 153.908147 \r\nL 288.87646 155.244186 \r\nL 290.268542 156.377363 \r\nL 293.052705 158.18385 \r\nL 295.836868 159.620157 \r\nL 300.013113 161.700558 \r\nL 302.797276 163.431849 \r\nL 304.189357 164.492859 \r\nL 305.581439 165.718449 \r\nL 306.973521 167.128985 \r\nL 308.365602 168.739361 \r\nL 309.757684 170.558138 \r\nL 311.149765 172.586897 \r\nL 313.933929 177.243908 \r\nL 316.718092 182.578022 \r\nL 320.894337 191.324244 \r\nL 325.070581 200.063397 \r\nL 327.854744 205.403428 \r\nL 330.638908 210.102412 \r\nL 333.423071 214.041795 \r\nL 334.815152 215.714201 \r\nL 336.207234 217.19183 \r\nL 337.599316 218.482383 \r\nL 338.991397 219.596727 \r\nL 340.383479 220.548074 \r\nL 341.77556 221.351183 \r\nL 344.559724 222.575152 \r\nL 347.343887 223.392206 \r\nL 350.12805 223.914378 \r\nL 352.912213 224.234011 \r\nL 357.088458 224.482005 \r\nL 357.088458 224.482005 \r\n\" style=\"fill:none;stroke:#2d1e3e;stroke-linecap:square;stroke-width:1.5;\"/>\r\n   </g>\r\n   <g id=\"line2d_18\">\r\n    <path clip-path=\"url(#p652e13f340)\" d=\"M 74.908807 224.566842 \r\nL 85.615065 224.340455 \r\nL 91.732927 224.033572 \r\nL 97.850789 223.497468 \r\nL 102.439186 222.886267 \r\nL 107.027583 222.051831 \r\nL 111.615979 220.965055 \r\nL 116.204376 219.61549 \r\nL 120.792772 218.018687 \r\nL 126.910634 215.588116 \r\nL 140.675824 209.8734 \r\nL 145.26422 208.262958 \r\nL 149.852617 206.949104 \r\nL 152.911548 206.263956 \r\nL 155.970479 205.739258 \r\nL 159.02941 205.373368 \r\nL 163.617806 205.101085 \r\nL 168.206203 205.108069 \r\nL 174.324065 205.409872 \r\nL 189.61872 206.3494 \r\nL 197.266048 206.482073 \r\nL 215.619634 206.593879 \r\nL 226.325892 206.779484 \r\nL 230.914289 206.663916 \r\nL 235.502685 206.313084 \r\nL 240.091082 205.685527 \r\nL 244.679478 204.795661 \r\nL 250.79734 203.340229 \r\nL 258.444668 201.551249 \r\nL 263.033064 200.779047 \r\nL 266.091995 200.477432 \r\nL 269.150927 200.38063 \r\nL 272.209858 200.505094 \r\nL 275.268789 200.855071 \r\nL 278.32772 201.423181 \r\nL 281.386651 202.191972 \r\nL 284.445582 203.136195 \r\nL 289.033978 204.814263 \r\nL 295.15184 207.368415 \r\nL 310.446495 213.978717 \r\nL 316.564357 216.336603 \r\nL 322.682219 218.413029 \r\nL 327.270616 219.760522 \r\nL 331.859012 220.917049 \r\nL 336.447409 221.880586 \r\nL 341.035805 222.657356 \r\nL 347.153667 223.428193 \r\nL 353.27153 223.944008 \r\nL 360.918857 224.322536 \r\nL 370.09565 224.532406 \r\nL 379.272443 224.608846 \r\nL 379.272443 224.608846 \r\n\" style=\"fill:none;stroke:#edd1cb;stroke-linecap:square;stroke-width:1.5;\"/>\r\n   </g>\r\n   <g id=\"patch_3\">\r\n    <path d=\"M 59.690625 224.64 \r\nL 59.690625 7.2 \r\n\" style=\"fill:none;stroke:#000000;stroke-linecap:square;stroke-linejoin:miter;stroke-width:0.8;\"/>\r\n   </g>\r\n   <g id=\"patch_4\">\r\n    <path d=\"M 394.490625 224.64 \r\nL 394.490625 7.2 \r\n\" style=\"fill:none;stroke:#000000;stroke-linecap:square;stroke-linejoin:miter;stroke-width:0.8;\"/>\r\n   </g>\r\n   <g id=\"patch_5\">\r\n    <path d=\"M 59.690625 224.64 \r\nL 394.490625 224.64 \r\n\" style=\"fill:none;stroke:#000000;stroke-linecap:square;stroke-linejoin:miter;stroke-width:0.8;\"/>\r\n   </g>\r\n   <g id=\"patch_6\">\r\n    <path d=\"M 59.690625 7.2 \r\nL 394.490625 7.2 \r\n\" style=\"fill:none;stroke:#000000;stroke-linecap:square;stroke-linejoin:miter;stroke-width:0.8;\"/>\r\n   </g>\r\n   <g id=\"legend_1\">\r\n    <g id=\"patch_7\">\r\n     <path d=\"M 349.128125 59.234375 \r\nL 387.490625 59.234375 \r\nQ 389.490625 59.234375 389.490625 57.234375 \r\nL 389.490625 14.2 \r\nQ 389.490625 12.2 387.490625 12.2 \r\nL 349.128125 12.2 \r\nQ 347.128125 12.2 347.128125 14.2 \r\nL 347.128125 57.234375 \r\nQ 347.128125 59.234375 349.128125 59.234375 \r\nz\r\n\" style=\"fill:#ffffff;opacity:0.8;stroke:#cccccc;stroke-linejoin:miter;\"/>\r\n    </g>\r\n    <g id=\"text_19\">\r\n     <!-- type -->\r\n     <g transform=\"translate(357.139063 23.798437)scale(0.1 -0.1)\">\r\n      <defs>\r\n       <path d=\"M 1159 525 \r\nL 1159 -1331 \r\nL 581 -1331 \r\nL 581 3500 \r\nL 1159 3500 \r\nL 1159 2969 \r\nQ 1341 3281 1617 3432 \r\nQ 1894 3584 2278 3584 \r\nQ 2916 3584 3314 3078 \r\nQ 3713 2572 3713 1747 \r\nQ 3713 922 3314 415 \r\nQ 2916 -91 2278 -91 \r\nQ 1894 -91 1617 61 \r\nQ 1341 213 1159 525 \r\nz\r\nM 3116 1747 \r\nQ 3116 2381 2855 2742 \r\nQ 2594 3103 2138 3103 \r\nQ 1681 3103 1420 2742 \r\nQ 1159 2381 1159 1747 \r\nQ 1159 1113 1420 752 \r\nQ 1681 391 2138 391 \r\nQ 2594 391 2855 752 \r\nQ 3116 1113 3116 1747 \r\nz\r\n\" id=\"DejaVuSans-70\" transform=\"scale(0.015625)\"/>\r\n      </defs>\r\n      <use xlink:href=\"#DejaVuSans-74\"/>\r\n      <use x=\"39.208984\" xlink:href=\"#DejaVuSans-79\"/>\r\n      <use x=\"98.388672\" xlink:href=\"#DejaVuSans-70\"/>\r\n      <use x=\"161.865234\" xlink:href=\"#DejaVuSans-65\"/>\r\n     </g>\r\n    </g>\r\n    <g id=\"line2d_19\">\r\n     <path d=\"M 351.128125 34.976562 \r\nL 371.128125 34.976562 \r\n\" style=\"fill:none;stroke:#edd1cb;stroke-linecap:square;stroke-width:1.5;\"/>\r\n    </g>\r\n    <g id=\"line2d_20\"/>\r\n    <g id=\"text_20\">\r\n     <!-- 1 -->\r\n     <g transform=\"translate(379.128125 38.476562)scale(0.1 -0.1)\">\r\n      <use xlink:href=\"#DejaVuSans-31\"/>\r\n     </g>\r\n    </g>\r\n    <g id=\"line2d_21\">\r\n     <path d=\"M 351.128125 49.654687 \r\nL 371.128125 49.654687 \r\n\" style=\"fill:none;stroke:#2d1e3e;stroke-linecap:square;stroke-width:1.5;\"/>\r\n    </g>\r\n    <g id=\"line2d_22\"/>\r\n    <g id=\"text_21\">\r\n     <!-- 2 -->\r\n     <g transform=\"translate(379.128125 53.154687)scale(0.1 -0.1)\">\r\n      <use xlink:href=\"#DejaVuSans-32\"/>\r\n     </g>\r\n    </g>\r\n   </g>\r\n  </g>\r\n </g>\r\n <defs>\r\n  <clipPath id=\"p652e13f340\">\r\n   <rect height=\"217.44\" width=\"334.8\" x=\"59.690625\" y=\"7.2\"/>\r\n  </clipPath>\r\n </defs>\r\n</svg>\r\n",
      "image/png": "[encoded data removed]"
     },
     "metadata": {
      "needs_background": "light"
     }
    }
   ],
   "source": [
    "sns.kdeplot(data=neigh,x='Distance',hue='type')"
   ]
  },
  {
   "cell_type": "code",
   "execution_count": null,
   "metadata": {},
   "outputs": [],
   "source": [
    "\"\"\" light = 1.00e-01 #kg/m^3\n",
    "co2 = 4e-1\n",
    "mu_max = 0.047*24 #2.25e-05# 1/d\n",
    "K_m_light = 3.5e-04\n",
    "K_m_co2 = 5e-2\n",
    "def monod_func(y,t):\n",
    "    return y*mu_max * (light/(K_m_light + light)) * (co2/( K_m_co2 + co2))\n",
    "t = np.linspace(df.index[0], df.index[-1],1000)\n",
    "sol = odeint(monod_func, y0, t)\n",
    "f, ax = plt.subplots(figsize=(9,6))\n",
    "ax.plot(df.iloc[:,1],label=f'Data')\n",
    "ax.plot(t,sol,ls='--',label=f'fit') \"\"\""
   ]
  },
  {
   "cell_type": "code",
   "execution_count": 25,
   "metadata": {},
   "outputs": [
    {
     "output_type": "error",
     "ename": "TypeError",
     "evalue": "get_grid_idx() takes 2 positional arguments but 3 were given",
     "traceback": [
      "\u001b[1;31m---------------------------------------------------------------------------\u001b[0m",
      "\u001b[1;31mTypeError\u001b[0m                                 Traceback (most recent call last)",
      "\u001b[1;32m<ipython-input-25-1dece87b6d60>\u001b[0m in \u001b[0;36m<module>\u001b[1;34m\u001b[0m\n\u001b[1;32m----> 1\u001b[1;33m \u001b[0mx\u001b[0m\u001b[1;33m.\u001b[0m\u001b[0mget_local_con\u001b[0m\u001b[1;33m(\u001b[0m\u001b[1;34m'Sucrose'\u001b[0m\u001b[1;33m,\u001b[0m\u001b[1;36m0\u001b[0m\u001b[1;33m,\u001b[0m\u001b[1;36m1\u001b[0m\u001b[1;33m)\u001b[0m\u001b[1;33m\u001b[0m\u001b[1;33m\u001b[0m\u001b[0m\n\u001b[0m",
      "\u001b[1;32md:\\nufeb_tools\\src\\nufeb_tools\\utils.py\u001b[0m in \u001b[0;36mget_local_con\u001b[1;34m(self, nutrient, timestep, cellID)\u001b[0m\n\u001b[0;32m    255\u001b[0m             \u001b[1;32mreturn\u001b[0m \u001b[0mjl\u001b[0m\u001b[1;33m\u001b[0m\u001b[1;33m\u001b[0m\u001b[0m\n\u001b[0;32m    256\u001b[0m     \u001b[1;32mdef\u001b[0m \u001b[0mget_local_con\u001b[0m\u001b[1;33m(\u001b[0m\u001b[0mself\u001b[0m\u001b[1;33m,\u001b[0m\u001b[0mnutrient\u001b[0m\u001b[1;33m,\u001b[0m\u001b[0mtimestep\u001b[0m\u001b[1;33m,\u001b[0m\u001b[0mcellID\u001b[0m\u001b[1;33m)\u001b[0m\u001b[1;33m:\u001b[0m\u001b[1;33m\u001b[0m\u001b[1;33m\u001b[0m\u001b[0m\n\u001b[1;32m--> 257\u001b[1;33m         \"\"\"\n\u001b[0m\u001b[0;32m    258\u001b[0m         \u001b[0mGet\u001b[0m \u001b[0mthe\u001b[0m \u001b[0mlocal\u001b[0m \u001b[0mnutrient\u001b[0m \u001b[0mconcentration\u001b[0m \u001b[0mof\u001b[0m \u001b[0ma\u001b[0m \u001b[0mcell\u001b[0m\u001b[1;33m\u001b[0m\u001b[1;33m\u001b[0m\u001b[0m\n\u001b[0;32m    259\u001b[0m \u001b[1;33m\u001b[0m\u001b[0m\n",
      "\u001b[1;32md:\\nufeb_tools\\src\\nufeb_tools\\utils.py\u001b[0m in \u001b[0;36m<listcomp>\u001b[1;34m(.0)\u001b[0m\n\u001b[0;32m    255\u001b[0m             \u001b[1;32mreturn\u001b[0m \u001b[0mjl\u001b[0m\u001b[1;33m\u001b[0m\u001b[1;33m\u001b[0m\u001b[0m\n\u001b[0;32m    256\u001b[0m     \u001b[1;32mdef\u001b[0m \u001b[0mget_local_con\u001b[0m\u001b[1;33m(\u001b[0m\u001b[0mself\u001b[0m\u001b[1;33m,\u001b[0m\u001b[0mnutrient\u001b[0m\u001b[1;33m,\u001b[0m\u001b[0mtimestep\u001b[0m\u001b[1;33m,\u001b[0m\u001b[0mcellID\u001b[0m\u001b[1;33m)\u001b[0m\u001b[1;33m:\u001b[0m\u001b[1;33m\u001b[0m\u001b[1;33m\u001b[0m\u001b[0m\n\u001b[1;32m--> 257\u001b[1;33m         \"\"\"\n\u001b[0m\u001b[0;32m    258\u001b[0m         \u001b[0mGet\u001b[0m \u001b[0mthe\u001b[0m \u001b[0mlocal\u001b[0m \u001b[0mnutrient\u001b[0m \u001b[0mconcentration\u001b[0m \u001b[0mof\u001b[0m \u001b[0ma\u001b[0m \u001b[0mcell\u001b[0m\u001b[1;33m\u001b[0m\u001b[1;33m\u001b[0m\u001b[0m\n\u001b[0;32m    259\u001b[0m \u001b[1;33m\u001b[0m\u001b[0m\n",
      "\u001b[1;31mTypeError\u001b[0m: get_grid_idx() takes 2 positional arguments but 3 were given"
     ]
    }
   ],
   "source": [
    "x.get_local_con('Sucrose',0,1)"
   ]
  },
  {
   "cell_type": "code",
   "execution_count": 27,
   "metadata": {},
   "outputs": [
    {
     "output_type": "execute_result",
     "data": {
      "text/plain": [
       "4.97e-05"
      ]
     },
     "metadata": {},
     "execution_count": 27
    }
   ],
   "source": [
    "x.h5['x']['0'][45]"
   ]
  },
  {
   "cell_type": "code",
   "execution_count": 59,
   "metadata": {},
   "outputs": [
    {
     "output_type": "execute_result",
     "data": {
      "text/plain": [
       "[0.0001, 0.0001, 1e-05]"
      ]
     },
     "metadata": {},
     "execution_count": 59
    }
   ],
   "source": [
    "x.metadata['Dimensions']"
   ]
  },
  {
   "cell_type": "code",
   "execution_count": 53,
   "metadata": {},
   "outputs": [],
   "source": [
    "l = list(x.dims)"
   ]
  },
  {
   "cell_type": "code",
   "execution_count": null,
   "metadata": {},
   "outputs": [],
   "source": []
  },
  {
   "cell_type": "code",
   "execution_count": 54,
   "metadata": {},
   "outputs": [],
   "source": [
    "l += [l.pop(0)]"
   ]
  },
  {
   "cell_type": "code",
   "execution_count": 55,
   "metadata": {},
   "outputs": [
    {
     "output_type": "execute_result",
     "data": {
      "text/plain": [
       "[50, 5, 50]"
      ]
     },
     "metadata": {},
     "execution_count": 55
    }
   ],
   "source": [
    "l"
   ]
  },
  {
   "cell_type": "code",
   "execution_count": 60,
   "metadata": {},
   "outputs": [],
   "source": [
    "grid = [np.linspace(0,x.metadata['Dimensions'][i],l[i]) for i in range(3)]"
   ]
  },
  {
   "cell_type": "code",
   "execution_count": 61,
   "metadata": {},
   "outputs": [
    {
     "output_type": "execute_result",
     "data": {
      "text/plain": [
       "[array([0.00000000e+00, 2.04081633e-06, 4.08163265e-06, 6.12244898e-06,\n",
       "        8.16326531e-06, 1.02040816e-05, 1.22448980e-05, 1.42857143e-05,\n",
       "        1.63265306e-05, 1.83673469e-05, 2.04081633e-05, 2.24489796e-05,\n",
       "        2.44897959e-05, 2.65306122e-05, 2.85714286e-05, 3.06122449e-05,\n",
       "        3.26530612e-05, 3.46938776e-05, 3.67346939e-05, 3.87755102e-05,\n",
       "        4.08163265e-05, 4.28571429e-05, 4.48979592e-05, 4.69387755e-05,\n",
       "        4.89795918e-05, 5.10204082e-05, 5.30612245e-05, 5.51020408e-05,\n",
       "        5.71428571e-05, 5.91836735e-05, 6.12244898e-05, 6.32653061e-05,\n",
       "        6.53061224e-05, 6.73469388e-05, 6.93877551e-05, 7.14285714e-05,\n",
       "        7.34693878e-05, 7.55102041e-05, 7.75510204e-05, 7.95918367e-05,\n",
       "        8.16326531e-05, 8.36734694e-05, 8.57142857e-05, 8.77551020e-05,\n",
       "        8.97959184e-05, 9.18367347e-05, 9.38775510e-05, 9.59183673e-05,\n",
       "        9.79591837e-05, 1.00000000e-04]),\n",
       " array([0.0e+00, 2.5e-05, 5.0e-05, 7.5e-05, 1.0e-04]),\n",
       " array([0.00000000e+00, 2.04081633e-07, 4.08163265e-07, 6.12244898e-07,\n",
       "        8.16326531e-07, 1.02040816e-06, 1.22448980e-06, 1.42857143e-06,\n",
       "        1.63265306e-06, 1.83673469e-06, 2.04081633e-06, 2.24489796e-06,\n",
       "        2.44897959e-06, 2.65306122e-06, 2.85714286e-06, 3.06122449e-06,\n",
       "        3.26530612e-06, 3.46938776e-06, 3.67346939e-06, 3.87755102e-06,\n",
       "        4.08163265e-06, 4.28571429e-06, 4.48979592e-06, 4.69387755e-06,\n",
       "        4.89795918e-06, 5.10204082e-06, 5.30612245e-06, 5.51020408e-06,\n",
       "        5.71428571e-06, 5.91836735e-06, 6.12244898e-06, 6.32653061e-06,\n",
       "        6.53061224e-06, 6.73469388e-06, 6.93877551e-06, 7.14285714e-06,\n",
       "        7.34693878e-06, 7.55102041e-06, 7.75510204e-06, 7.95918367e-06,\n",
       "        8.16326531e-06, 8.36734694e-06, 8.57142857e-06, 8.77551020e-06,\n",
       "        8.97959184e-06, 9.18367347e-06, 9.38775510e-06, 9.59183673e-06,\n",
       "        9.79591837e-06, 1.00000000e-05])]"
      ]
     },
     "metadata": {},
     "execution_count": 61
    }
   ],
   "source": [
    "grid"
   ]
  },
  {
   "cell_type": "code",
   "execution_count": 62,
   "metadata": {},
   "outputs": [
    {
     "output_type": "execute_result",
     "data": {
      "text/plain": [
       "2.59e-05"
      ]
     },
     "metadata": {},
     "execution_count": 62
    }
   ],
   "source": [
    "ret_array[ret_array.ID ==95]['x'].values[0]"
   ]
  },
  {
   "cell_type": "code",
   "execution_count": 63,
   "metadata": {},
   "outputs": [
    {
     "output_type": "execute_result",
     "data": {
      "text/plain": [
       "2.59e-05"
      ]
     },
     "metadata": {},
     "execution_count": 63
    }
   ],
   "source": [
    "ret_array.loc[0]['x']"
   ]
  },
  {
   "cell_type": "code",
   "execution_count": 148,
   "metadata": {},
   "outputs": [],
   "source": [
    "def get_grid_idx(array,value):\n",
    "    \"\"\"\n",
    "    Find the nutrient grid index value. Taken from https://stackoverflow.com/questions/2566412/find-nearest-value-in-numpy-array.\n",
    "\n",
    "    Args:\n",
    "        array (numpy.array):\n",
    "            1D Array containing the grid positions\n",
    "        value (float):\n",
    "            Cell location to map to the grid\n",
    "    Returns:\n",
    "        index (int):\n",
    "            Grid index\n",
    "    \"\"\"\n",
    "    n = len(array)\n",
    "\n",
    "    jl = 0# Initialize lower\n",
    "    ju = n-1# and upper limits.\n",
    "    while (ju-jl > 1):# If we are not yet done,\n",
    "        jm=(ju+jl) >> 1# compute a midpoint with a bitshift\n",
    "        if (value >= array[jm]):\n",
    "            jl=jm# and replace either the lower limit\n",
    "        else:\n",
    "            ju=jm# or the upper limit, as appropriate.\n",
    "        # Repeat until the test condition is satisfied.\n",
    "    if (value == array[0]):# edge cases at bottom\n",
    "        return 0\n",
    "    elif (value == array[n-1]):# and top\n",
    "        return n-1\n",
    "    else:\n",
    "        return jl"
   ]
  },
  {
   "cell_type": "code",
   "execution_count": 149,
   "metadata": {},
   "outputs": [
    {
     "output_type": "execute_result",
     "data": {
      "text/plain": [
       "3"
      ]
     },
     "metadata": {},
     "execution_count": 149
    }
   ],
   "source": [
    "get_grid_idx(grid[2],ret_array.loc[0]['y'])"
   ]
  },
  {
   "cell_type": "code",
   "execution_count": 95,
   "metadata": {},
   "outputs": [
    {
     "output_type": "execute_result",
     "data": {
      "text/plain": [
       "2.448979591836735e-05"
      ]
     },
     "metadata": {},
     "execution_count": 95
    }
   ],
   "source": [
    "grid[0][12]"
   ]
  },
  {
   "cell_type": "code",
   "execution_count": 103,
   "metadata": {},
   "outputs": [
    {
     "output_type": "execute_result",
     "data": {
      "text/plain": [
       "0.12523104535199808"
      ]
     },
     "metadata": {},
     "execution_count": 103
    }
   ],
   "source": [
    "trajectory['concentration']['suc']['1000'][0,12,0]"
   ]
  },
  {
   "cell_type": "code",
   "execution_count": 169,
   "metadata": {},
   "outputs": [],
   "source": [
    "grid = [np.linspace(0,metadata['Dimensions'][x],l[x]) for x in range(3)]\n",
    "grid_loc = [get_grid_idx(grid[i],ret_array[ret_array.ID ==95][d].values[0]) for i,d in enumerate(['x','y','z'])]"
   ]
  },
  {
   "cell_type": "code",
   "execution_count": 170,
   "metadata": {},
   "outputs": [
    {
     "output_type": "execute_result",
     "data": {
      "text/plain": [
       "[12, 9, 0]"
      ]
     },
     "metadata": {},
     "execution_count": 170
    }
   ],
   "source": [
    "grid_loc"
   ]
  },
  {
   "cell_type": "code",
   "execution_count": 146,
   "metadata": {},
   "outputs": [
    {
     "output_type": "execute_result",
     "data": {
      "text/plain": [
       "0.1326231307024827"
      ]
     },
     "metadata": {},
     "execution_count": 146
    }
   ],
   "source": [
    "trajectory['concentration']['suc']['1000'][grid_loc[2],grid_loc[0],grid_loc[1]]"
   ]
  },
  {
   "cell_type": "code",
   "execution_count": 171,
   "metadata": {},
   "outputs": [],
   "source": [
    "def get_local_con(trajectory,nutrient,timestep,cellID):\n",
    "    grid = [np.linspace(0,metadata['Dimensions'][x],l[x]) for x in range(3)]\n",
    "    grid_loc = [get_grid_idx(grid[i],ret_array[ret_array.ID ==cellID][d].values[0]) for i,d in enumerate(['x','y','z'])]\n",
    "    return trajectory['concentration'][nutrient][str(timestep)][grid_loc[2],grid_loc[0],grid_loc[1]]"
   ]
  },
  {
   "cell_type": "code",
   "execution_count": 172,
   "metadata": {},
   "outputs": [
    {
     "output_type": "execute_result",
     "data": {
      "text/plain": [
       "3.42e-20"
      ]
     },
     "metadata": {},
     "execution_count": 172
    }
   ],
   "source": [
    "get_local_con(trajectory,'suc',0,1)"
   ]
  },
  {
   "cell_type": "code",
   "execution_count": 181,
   "metadata": {},
   "outputs": [],
   "source": [
    "timepoints = [key for key in trajectory['concentration']['co2'].keys()]\n",
    "timepoints.sort(key=int)"
   ]
  },
  {
   "cell_type": "code",
   "execution_count": 321,
   "metadata": {},
   "outputs": [
    {
     "output_type": "execute_result",
     "data": {
      "text/plain": [
       "       id type       time     biomass\n",
       "0      95    2   0.000000   92.505631\n",
       "1      95    2   0.277778   90.662882\n",
       "2      95    2   0.555556   88.941568\n",
       "3      95    2   0.833333   87.342844\n",
       "4      95    2   1.111111   85.860407\n",
       "...    ..  ...        ...         ...\n",
       "11711  79    2  26.666667  132.590902\n",
       "11712  79    2  26.944444  136.687773\n",
       "11713  79    2  27.222222  140.810091\n",
       "11714  79    2  27.500000   67.292851\n",
       "11715  79    2  27.777778   69.220306\n",
       "\n",
       "[11716 rows x 4 columns]"
      ],
      "text/html": "<div>\n<style scoped>\n    .dataframe tbody tr th:only-of-type {\n        vertical-align: middle;\n    }\n\n    .dataframe tbody tr th {\n        vertical-align: top;\n    }\n\n    .dataframe thead th {\n        text-align: right;\n    }\n</style>\n<table border=\"1\" class=\"dataframe\">\n  <thead>\n    <tr style=\"text-align: right;\">\n      <th></th>\n      <th>id</th>\n      <th>type</th>\n      <th>time</th>\n      <th>biomass</th>\n    </tr>\n  </thead>\n  <tbody>\n    <tr>\n      <th>0</th>\n      <td>95</td>\n      <td>2</td>\n      <td>0.000000</td>\n      <td>92.505631</td>\n    </tr>\n    <tr>\n      <th>1</th>\n      <td>95</td>\n      <td>2</td>\n      <td>0.277778</td>\n      <td>90.662882</td>\n    </tr>\n    <tr>\n      <th>2</th>\n      <td>95</td>\n      <td>2</td>\n      <td>0.555556</td>\n      <td>88.941568</td>\n    </tr>\n    <tr>\n      <th>3</th>\n      <td>95</td>\n      <td>2</td>\n      <td>0.833333</td>\n      <td>87.342844</td>\n    </tr>\n    <tr>\n      <th>4</th>\n      <td>95</td>\n      <td>2</td>\n      <td>1.111111</td>\n      <td>85.860407</td>\n    </tr>\n    <tr>\n      <th>...</th>\n      <td>...</td>\n      <td>...</td>\n      <td>...</td>\n      <td>...</td>\n    </tr>\n    <tr>\n      <th>11711</th>\n      <td>79</td>\n      <td>2</td>\n      <td>26.666667</td>\n      <td>132.590902</td>\n    </tr>\n    <tr>\n      <th>11712</th>\n      <td>79</td>\n      <td>2</td>\n      <td>26.944444</td>\n      <td>136.687773</td>\n    </tr>\n    <tr>\n      <th>11713</th>\n      <td>79</td>\n      <td>2</td>\n      <td>27.222222</td>\n      <td>140.810091</td>\n    </tr>\n    <tr>\n      <th>11714</th>\n      <td>79</td>\n      <td>2</td>\n      <td>27.500000</td>\n      <td>67.292851</td>\n    </tr>\n    <tr>\n      <th>11715</th>\n      <td>79</td>\n      <td>2</td>\n      <td>27.777778</td>\n      <td>69.220306</td>\n    </tr>\n  </tbody>\n</table>\n<p>11716 rows × 4 columns</p>\n</div>"
     },
     "metadata": {},
     "execution_count": 321
    }
   ],
   "source": [
    "df = x.single_cell_biomass\n",
    "#df = df[df.id == 95]\n",
    "df\n"
   ]
  },
  {
   "cell_type": "code",
   "execution_count": 290,
   "metadata": {},
   "outputs": [],
   "source": []
  },
  {
   "cell_type": "code",
   "execution_count": 291,
   "metadata": {},
   "outputs": [
    {
     "output_type": "execute_result",
     "data": {
      "text/plain": [
       "1"
      ]
     },
     "metadata": {},
     "execution_count": 291
    }
   ],
   "source": [
    "light = 1.00e-01 #kg/m^3\n",
    "co2 = 4e-1\n",
    "mu_max_cy = 0.06\n",
    "K_m_light = 3.5e-04\n",
    "K_m_co2 = 5e-2\n",
    "K_m_suc = 3.6\n",
    "K_m_o2 = 0.001\n",
    "mu_max_ecw = 0.972\n",
    "o2 = 0.009\n",
    "suc = 0.1\n",
    "df.type.unique()[0]"
   ]
  },
  {
   "cell_type": "code",
   "execution_count": 306,
   "metadata": {},
   "outputs": [],
   "source": [
    "#[get_local_con(trajectory,'suc',t,1) for t in timepoints]"
   ]
  },
  {
   "cell_type": "code",
   "execution_count": 380,
   "metadata": {},
   "outputs": [],
   "source": [
    "x= utils.get_data(id='c/47146695')\n",
    "x.single_cell_growth()\n",
    "df = x.single_cell_biomass\n"
   ]
  },
  {
   "cell_type": "code",
   "execution_count": null,
   "metadata": {},
   "outputs": [],
   "source": []
  }
 ]
}