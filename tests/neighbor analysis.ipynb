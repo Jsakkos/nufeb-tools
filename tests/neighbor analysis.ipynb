from nufeb_tools import utils, plot
import matplotlib.pyplot as plt
import seaborn as sns
x = utils.get_data(directory = r'D:\Run_86_79_5_1_2021-06-24')